{
 "cells": [
  {
   "cell_type": "code",
   "execution_count": 1,
   "metadata": {},
   "outputs": [
    {
     "name": "stdout",
     "output_type": "stream",
     "text": [
      "7429 + 814 = 8243 (mapping: {'r': 1, 'o': 8, 'd': 9, 'n': 2, 'e': 4, 's': 7, 'm': 0, 'y': 3})\n",
      "7539 + 815 = 8354 (mapping: {'r': 1, 'o': 8, 'd': 9, 'n': 3, 'e': 5, 's': 7, 'm': 0, 'y': 4})\n",
      "7649 + 816 = 8465 (mapping: {'r': 1, 'o': 8, 'd': 9, 'n': 4, 'e': 6, 's': 7, 'm': 0, 'y': 5})\n",
      "8432 + 914 = 9346 (mapping: {'r': 1, 'o': 9, 'd': 2, 'n': 3, 'e': 4, 's': 8, 'm': 0, 'y': 6})\n",
      "8542 + 915 = 9457 (mapping: {'r': 1, 'o': 9, 'd': 2, 'n': 4, 'e': 5, 's': 8, 'm': 0, 'y': 7})\n",
      "8324 + 913 = 9237 (mapping: {'r': 1, 'o': 9, 'd': 4, 'n': 2, 'e': 3, 's': 8, 'm': 0, 'y': 7})\n",
      "6853 + 728 = 7581 (mapping: {'r': 2, 'o': 7, 'd': 3, 'n': 5, 'e': 8, 's': 6, 'm': 0, 'y': 1})\n",
      "6419 + 724 = 7143 (mapping: {'r': 2, 'o': 7, 'd': 9, 'n': 1, 'e': 4, 's': 6, 'm': 0, 'y': 3})\n",
      "7531 + 825 = 8356 (mapping: {'r': 2, 'o': 8, 'd': 1, 'n': 3, 'e': 5, 's': 7, 'm': 0, 'y': 6})\n",
      "7643 + 826 = 8469 (mapping: {'r': 2, 'o': 8, 'd': 3, 'n': 4, 'e': 6, 's': 7, 'm': 0, 'y': 9})\n",
      "7534 + 825 = 8359 (mapping: {'r': 2, 'o': 8, 'd': 4, 'n': 3, 'e': 5, 's': 7, 'm': 0, 'y': 9})\n",
      "7316 + 823 = 8139 (mapping: {'r': 2, 'o': 8, 'd': 6, 'n': 1, 'e': 3, 's': 7, 'm': 0, 'y': 9})\n",
      "5849 + 638 = 6487 (mapping: {'r': 3, 'o': 6, 'd': 9, 'n': 4, 'e': 8, 's': 5, 'm': 0, 'y': 7})\n",
      "6851 + 738 = 7589 (mapping: {'r': 3, 'o': 7, 'd': 1, 'n': 5, 'e': 8, 's': 6, 'm': 0, 'y': 9})\n",
      "6524 + 735 = 7259 (mapping: {'r': 3, 'o': 7, 'd': 4, 'n': 2, 'e': 5, 's': 6, 'm': 0, 'y': 9})\n",
      "6415 + 734 = 7149 (mapping: {'r': 3, 'o': 7, 'd': 5, 'n': 1, 'e': 4, 's': 6, 'm': 0, 'y': 9})\n",
      "5731 + 647 = 6378 (mapping: {'r': 4, 'o': 6, 'd': 1, 'n': 3, 'e': 7, 's': 5, 'm': 0, 'y': 8})\n",
      "5732 + 647 = 6379 (mapping: {'r': 4, 'o': 6, 'd': 2, 'n': 3, 'e': 7, 's': 5, 'm': 0, 'y': 9})\n",
      "3719 + 457 = 4176 (mapping: {'r': 5, 'o': 4, 'd': 9, 'n': 1, 'e': 7, 's': 3, 'm': 0, 'y': 6})\n",
      "3829 + 458 = 4287 (mapping: {'r': 5, 'o': 4, 'd': 9, 'n': 2, 'e': 8, 's': 3, 'm': 0, 'y': 7})\n",
      "2817 + 368 = 3185 (mapping: {'r': 6, 'o': 3, 'd': 7, 'n': 1, 'e': 8, 's': 2, 'm': 0, 'y': 5})\n",
      "2819 + 368 = 3187 (mapping: {'r': 6, 'o': 3, 'd': 9, 'n': 1, 'e': 8, 's': 2, 'm': 0, 'y': 7})\n",
      "3821 + 468 = 4289 (mapping: {'r': 6, 'o': 4, 'd': 1, 'n': 2, 'e': 8, 's': 3, 'm': 0, 'y': 9})\n",
      "3712 + 467 = 4179 (mapping: {'r': 6, 'o': 4, 'd': 2, 'n': 1, 'e': 7, 's': 3, 'm': 0, 'y': 9})\n",
      "9567 + 1085 = 10652 (mapping: {'r': 8, 'o': 0, 'd': 7, 'n': 6, 'e': 5, 's': 9, 'm': 1, 'y': 2})\n"
     ]
    }
   ],
   "source": [
    "import itertools\n",
    "\n",
    "\n",
    "def get_value(word, substitution):\n",
    "    s = 0\n",
    "    factor = 1\n",
    "    for letter in reversed(word):\n",
    "        s += factor * substitution[letter]\n",
    "        factor *= 10\n",
    "    return s\n",
    "\n",
    "\n",
    "def solve2(equation):\n",
    "    # split equation in left and right\n",
    "    left, right = equation.lower().replace(' ', '').split('=')\n",
    "    # split words in left part\n",
    "    left = left.split('+')\n",
    "    # create list of used letters\n",
    "    letters = set(right)\n",
    "    for word in left:\n",
    "        for letter in word:\n",
    "            letters.add(letter)\n",
    "    letters = list(letters)\n",
    "\n",
    "    digits = range(10)\n",
    "    for perm in itertools.permutations(digits, len(letters)):\n",
    "        sol = dict(zip(letters, perm))\n",
    "\n",
    "        if sum(get_value(word, sol) for word in left) == get_value(right, sol):\n",
    "            print(' + '.join(str(get_value(word, sol)) for word in left) + \" = {} (mapping: {})\".format(get_value(right, sol), sol))\n",
    "\n",
    "if __name__ == '__main__':\n",
    "    solve2('SEND + MORE = MONEY')"
   ]
  },
  {
   "cell_type": "code",
   "execution_count": null,
   "metadata": {},
   "outputs": [],
   "source": []
  }
 ],
 "metadata": {
  "kernelspec": {
   "display_name": "Python 3",
   "language": "python",
   "name": "python3"
  },
  "language_info": {
   "codemirror_mode": {
    "name": "ipython",
    "version": 3
   },
   "file_extension": ".py",
   "mimetype": "text/x-python",
   "name": "python",
   "nbconvert_exporter": "python",
   "pygments_lexer": "ipython3",
   "version": "3.6.5"
  }
 },
 "nbformat": 4,
 "nbformat_minor": 2
}
